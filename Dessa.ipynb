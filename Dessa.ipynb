{
 "cells": [
  {
   "cell_type": "code",
   "execution_count": 1,
   "metadata": {},
   "outputs": [],
   "source": [
    "import pandas as pd\n",
    "import matplotlib.pyplot as plt\n",
    "import numpy as np\n",
    "import seaborn as sns\n",
    "from sklearn.model_selection import train_test_split, GridSearchCV\n",
    "from sklearn.metrics import make_scorer, accuracy_score\n",
    "from matplotlib.ticker import PercentFormatter\n",
    "%matplotlib inline"
   ]
  },
  {
   "cell_type": "code",
   "execution_count": 2,
   "metadata": {},
   "outputs": [
    {
     "data": {
      "text/html": [
       "<div>\n",
       "<style scoped>\n",
       "    .dataframe tbody tr th:only-of-type {\n",
       "        vertical-align: middle;\n",
       "    }\n",
       "\n",
       "    .dataframe tbody tr th {\n",
       "        vertical-align: top;\n",
       "    }\n",
       "\n",
       "    .dataframe thead th {\n",
       "        text-align: right;\n",
       "    }\n",
       "</style>\n",
       "<table border=\"1\" class=\"dataframe\">\n",
       "  <thead>\n",
       "    <tr style=\"text-align: right;\">\n",
       "      <th></th>\n",
       "      <th>ID</th>\n",
       "      <th>name</th>\n",
       "      <th>category</th>\n",
       "      <th>main_category</th>\n",
       "      <th>currency</th>\n",
       "      <th>deadline</th>\n",
       "      <th>goal</th>\n",
       "      <th>launched</th>\n",
       "      <th>pledged</th>\n",
       "      <th>state</th>\n",
       "      <th>backers</th>\n",
       "      <th>country</th>\n",
       "      <th>usd pledged</th>\n",
       "      <th>usd_pledged_real</th>\n",
       "      <th>usd_goal_real</th>\n",
       "    </tr>\n",
       "  </thead>\n",
       "  <tbody>\n",
       "    <tr>\n",
       "      <th>0</th>\n",
       "      <td>1000002330</td>\n",
       "      <td>The Songs of Adelaide &amp; Abullah</td>\n",
       "      <td>Poetry</td>\n",
       "      <td>Publishing</td>\n",
       "      <td>GBP</td>\n",
       "      <td>2015-10-09</td>\n",
       "      <td>1000.0</td>\n",
       "      <td>2015-08-11 12:12:28</td>\n",
       "      <td>0.0</td>\n",
       "      <td>failed</td>\n",
       "      <td>0</td>\n",
       "      <td>GB</td>\n",
       "      <td>0.0</td>\n",
       "      <td>0.0</td>\n",
       "      <td>1533.95</td>\n",
       "    </tr>\n",
       "    <tr>\n",
       "      <th>1</th>\n",
       "      <td>1000003930</td>\n",
       "      <td>Greeting From Earth: ZGAC Arts Capsule For ET</td>\n",
       "      <td>Narrative Film</td>\n",
       "      <td>Film &amp; Video</td>\n",
       "      <td>USD</td>\n",
       "      <td>2017-11-01</td>\n",
       "      <td>30000.0</td>\n",
       "      <td>2017-09-02 04:43:57</td>\n",
       "      <td>2421.0</td>\n",
       "      <td>failed</td>\n",
       "      <td>15</td>\n",
       "      <td>US</td>\n",
       "      <td>100.0</td>\n",
       "      <td>2421.0</td>\n",
       "      <td>30000.00</td>\n",
       "    </tr>\n",
       "    <tr>\n",
       "      <th>2</th>\n",
       "      <td>1000004038</td>\n",
       "      <td>Where is Hank?</td>\n",
       "      <td>Narrative Film</td>\n",
       "      <td>Film &amp; Video</td>\n",
       "      <td>USD</td>\n",
       "      <td>2013-02-26</td>\n",
       "      <td>45000.0</td>\n",
       "      <td>2013-01-12 00:20:50</td>\n",
       "      <td>220.0</td>\n",
       "      <td>failed</td>\n",
       "      <td>3</td>\n",
       "      <td>US</td>\n",
       "      <td>220.0</td>\n",
       "      <td>220.0</td>\n",
       "      <td>45000.00</td>\n",
       "    </tr>\n",
       "    <tr>\n",
       "      <th>3</th>\n",
       "      <td>1000007540</td>\n",
       "      <td>ToshiCapital Rekordz Needs Help to Complete Album</td>\n",
       "      <td>Music</td>\n",
       "      <td>Music</td>\n",
       "      <td>USD</td>\n",
       "      <td>2012-04-16</td>\n",
       "      <td>5000.0</td>\n",
       "      <td>2012-03-17 03:24:11</td>\n",
       "      <td>1.0</td>\n",
       "      <td>failed</td>\n",
       "      <td>1</td>\n",
       "      <td>US</td>\n",
       "      <td>1.0</td>\n",
       "      <td>1.0</td>\n",
       "      <td>5000.00</td>\n",
       "    </tr>\n",
       "    <tr>\n",
       "      <th>4</th>\n",
       "      <td>1000011046</td>\n",
       "      <td>Community Film Project: The Art of Neighborhoo...</td>\n",
       "      <td>Film &amp; Video</td>\n",
       "      <td>Film &amp; Video</td>\n",
       "      <td>USD</td>\n",
       "      <td>2015-08-29</td>\n",
       "      <td>19500.0</td>\n",
       "      <td>2015-07-04 08:35:03</td>\n",
       "      <td>1283.0</td>\n",
       "      <td>canceled</td>\n",
       "      <td>14</td>\n",
       "      <td>US</td>\n",
       "      <td>1283.0</td>\n",
       "      <td>1283.0</td>\n",
       "      <td>19500.00</td>\n",
       "    </tr>\n",
       "  </tbody>\n",
       "</table>\n",
       "</div>"
      ],
      "text/plain": [
       "           ID                                               name  \\\n",
       "0  1000002330                    The Songs of Adelaide & Abullah   \n",
       "1  1000003930      Greeting From Earth: ZGAC Arts Capsule For ET   \n",
       "2  1000004038                                     Where is Hank?   \n",
       "3  1000007540  ToshiCapital Rekordz Needs Help to Complete Album   \n",
       "4  1000011046  Community Film Project: The Art of Neighborhoo...   \n",
       "\n",
       "         category main_category currency    deadline     goal  \\\n",
       "0          Poetry    Publishing      GBP  2015-10-09   1000.0   \n",
       "1  Narrative Film  Film & Video      USD  2017-11-01  30000.0   \n",
       "2  Narrative Film  Film & Video      USD  2013-02-26  45000.0   \n",
       "3           Music         Music      USD  2012-04-16   5000.0   \n",
       "4    Film & Video  Film & Video      USD  2015-08-29  19500.0   \n",
       "\n",
       "              launched  pledged     state  backers country  usd pledged  \\\n",
       "0  2015-08-11 12:12:28      0.0    failed        0      GB          0.0   \n",
       "1  2017-09-02 04:43:57   2421.0    failed       15      US        100.0   \n",
       "2  2013-01-12 00:20:50    220.0    failed        3      US        220.0   \n",
       "3  2012-03-17 03:24:11      1.0    failed        1      US          1.0   \n",
       "4  2015-07-04 08:35:03   1283.0  canceled       14      US       1283.0   \n",
       "\n",
       "   usd_pledged_real  usd_goal_real  \n",
       "0               0.0        1533.95  \n",
       "1            2421.0       30000.00  \n",
       "2             220.0       45000.00  \n",
       "3               1.0        5000.00  \n",
       "4            1283.0       19500.00  "
      ]
     },
     "execution_count": 2,
     "metadata": {},
     "output_type": "execute_result"
    }
   ],
   "source": [
    "df = pd.read_csv('ks-projects-201801.csv',encoding='latin-1')\n",
    "df.head()"
   ]
  },
  {
   "cell_type": "code",
   "execution_count": 3,
   "metadata": {},
   "outputs": [],
   "source": [
    "data_kick = pd.read_csv('ks-projects-201801.csv',encoding='latin-1')\n",
    "data_kick = data_kick.loc[data_kick['state'].isin(\n",
    "            ['successful', 'failed'])]\n",
    "data_kick.dropna(inplace=True)"
   ]
  },
  {
   "cell_type": "code",
   "execution_count": 4,
   "metadata": {},
   "outputs": [],
   "source": [
    "df.dropna(inplace=True)"
   ]
  },
  {
   "cell_type": "code",
   "execution_count": 5,
   "metadata": {},
   "outputs": [
    {
     "data": {
      "text/plain": [
       "(374860, 15)"
      ]
     },
     "execution_count": 5,
     "metadata": {},
     "output_type": "execute_result"
    }
   ],
   "source": [
    "df.shape"
   ]
  },
  {
   "cell_type": "code",
   "execution_count": 6,
   "metadata": {},
   "outputs": [
    {
     "data": {
      "text/plain": [
       "failed        52.72\n",
       "successful    35.71\n",
       "canceled      10.34\n",
       "live           0.75\n",
       "suspended      0.49\n",
       "Name: state, dtype: float64"
      ]
     },
     "execution_count": 6,
     "metadata": {},
     "output_type": "execute_result"
    }
   ],
   "source": [
    "percent_dist = round(df[\"state\"].value_counts() / len(df[\"state\"]) * 100,2)\n",
    "percent_dist"
   ]
  },
  {
   "cell_type": "code",
   "execution_count": 7,
   "metadata": {},
   "outputs": [
    {
     "name": "stderr",
     "output_type": "stream",
     "text": [
      "/anaconda3/lib/python3.7/site-packages/IPython/core/interactiveshell.py:3296: FutureWarning: Passing timedelta64-dtype data is deprecated, will raise a TypeError in a future version\n",
      "  exec(code_obj, self.user_global_ns, self.user_ns)\n"
     ]
    }
   ],
   "source": [
    "df = df[df['goal'] > 100]   # Assuming that no sound project should be <$100\n",
    "df = df[df['backers'] > 0]  # Assuming that no sound project should have backers == 0\n",
    "df['year'] = pd.to_datetime(df['launched']).dt.year # Add year column\n",
    "df['project_duration'] = pd.to_datetime(pd.to_datetime(df['deadline']) - \\\n",
    "                pd.to_datetime(df['launched'])).dt.day # Determine each project duration\n",
    "\n",
    "df = df[~df['year'].isin(['1970', '2018'])] # Exclude 1970 and 2018\n",
    "df['avg_backer_invest'] = df['pledged']/df['backers']\n"
   ]
  },
  {
   "cell_type": "code",
   "execution_count": 8,
   "metadata": {},
   "outputs": [],
   "source": [
    "def percent_plot(data, title):\n",
    "    \n",
    "    ax = data.plot(kind='bar')\n",
    "    plt.title(title)\n",
    "    ax.yaxis.set_major_formatter(PercentFormatter())\n",
    "    plt.show();"
   ]
  },
  {
   "cell_type": "code",
   "execution_count": 9,
   "metadata": {},
   "outputs": [
    {
     "data": {
      "image/png": "[encoded data removed]",
      "text/plain": [
       "<Figure size 432x288 with 1 Axes>"
      ]
     },
     "metadata": {
      "needs_background": "light"
     },
     "output_type": "display_data"
    }
   ],
   "source": [
    "# Project counts by year\n",
    "annual_growth = df.year.value_counts().sort_index()\n",
    "index = annual_growth.index.tolist()\n",
    "vals = annual_growth.tolist()\n",
    "\n",
    "N = len(index)\n",
    "ind = np.arange(N)\n",
    "width = 0.7\n",
    "\n",
    "plt.bar(ind, vals, width=width)\n",
    "plt.xticks(ind, index)\n",
    "plt.show()"
   ]
  },
  {
   "cell_type": "code",
   "execution_count": 10,
   "metadata": {},
   "outputs": [
    {
     "data": {
      "image/png": "[encoded data removed]",
      "text/plain": [
       "<Figure size 432x288 with 1 Axes>"
      ]
     },
     "metadata": {
      "needs_background": "light"
     },
     "output_type": "display_data"
    }
   ],
   "source": [
    "state_year_df = df[['main_category', 'state']]\n",
    "state_year_df = state_year_df.pivot_table(index='main_category', columns='state', aggfunc=len)\n",
    "state_year_df['failed'] = state_year_df['canceled'] + state_year_df['failed']+ state_year_df['suspended']\n",
    "state_year_df = state_year_df[['successful', 'failed']]\n",
    "state_year_df= state_year_df.sort_values('successful')\n",
    "state_year_df.plot.bar()\n",
    "plt.show()"
   ]
  },
  {
   "cell_type": "code",
   "execution_count": 11,
   "metadata": {},
   "outputs": [
    {
     "data": {
      "text/html": [
       "<div>\n",
       "<style scoped>\n",
       "    .dataframe tbody tr th:only-of-type {\n",
       "        vertical-align: middle;\n",
       "    }\n",
       "\n",
       "    .dataframe tbody tr th {\n",
       "        vertical-align: top;\n",
       "    }\n",
       "\n",
       "    .dataframe thead th {\n",
       "        text-align: right;\n",
       "    }\n",
       "</style>\n",
       "<table border=\"1\" class=\"dataframe\">\n",
       "  <thead>\n",
       "    <tr style=\"text-align: right;\">\n",
       "      <th>state</th>\n",
       "      <th>successful</th>\n",
       "      <th>failed</th>\n",
       "    </tr>\n",
       "    <tr>\n",
       "      <th>main_category</th>\n",
       "      <th></th>\n",
       "      <th></th>\n",
       "    </tr>\n",
       "  </thead>\n",
       "  <tbody>\n",
       "    <tr>\n",
       "      <th>Journalism</th>\n",
       "      <td>971</td>\n",
       "      <td>2484</td>\n",
       "    </tr>\n",
       "    <tr>\n",
       "      <th>Crafts</th>\n",
       "      <td>1915</td>\n",
       "      <td>4876</td>\n",
       "    </tr>\n",
       "    <tr>\n",
       "      <th>Dance</th>\n",
       "      <td>2325</td>\n",
       "      <td>1135</td>\n",
       "    </tr>\n",
       "    <tr>\n",
       "      <th>Photography</th>\n",
       "      <td>3184</td>\n",
       "      <td>5414</td>\n",
       "    </tr>\n",
       "    <tr>\n",
       "      <th>Fashion</th>\n",
       "      <td>5464</td>\n",
       "      <td>12502</td>\n",
       "    </tr>\n",
       "    <tr>\n",
       "      <th>Comics</th>\n",
       "      <td>5617</td>\n",
       "      <td>4411</td>\n",
       "    </tr>\n",
       "    <tr>\n",
       "      <th>Food</th>\n",
       "      <td>5777</td>\n",
       "      <td>13883</td>\n",
       "    </tr>\n",
       "    <tr>\n",
       "      <th>Technology</th>\n",
       "      <td>6292</td>\n",
       "      <td>20319</td>\n",
       "    </tr>\n",
       "    <tr>\n",
       "      <th>Theater</th>\n",
       "      <td>6480</td>\n",
       "      <td>3445</td>\n",
       "    </tr>\n",
       "    <tr>\n",
       "      <th>Design</th>\n",
       "      <td>10339</td>\n",
       "      <td>17291</td>\n",
       "    </tr>\n",
       "    <tr>\n",
       "      <th>Art</th>\n",
       "      <td>10941</td>\n",
       "      <td>12249</td>\n",
       "    </tr>\n",
       "    <tr>\n",
       "      <th>Publishing</th>\n",
       "      <td>12022</td>\n",
       "      <td>19952</td>\n",
       "    </tr>\n",
       "    <tr>\n",
       "      <th>Games</th>\n",
       "      <td>12059</td>\n",
       "      <td>19709</td>\n",
       "    </tr>\n",
       "    <tr>\n",
       "      <th>Film &amp; Video</th>\n",
       "      <td>23229</td>\n",
       "      <td>29431</td>\n",
       "    </tr>\n",
       "    <tr>\n",
       "      <th>Music</th>\n",
       "      <td>23808</td>\n",
       "      <td>18304</td>\n",
       "    </tr>\n",
       "  </tbody>\n",
       "</table>\n",
       "</div>"
      ],
      "text/plain": [
       "state          successful  failed\n",
       "main_category                    \n",
       "Journalism            971    2484\n",
       "Crafts               1915    4876\n",
       "Dance                2325    1135\n",
       "Photography          3184    5414\n",
       "Fashion              5464   12502\n",
       "Comics               5617    4411\n",
       "Food                 5777   13883\n",
       "Technology           6292   20319\n",
       "Theater              6480    3445\n",
       "Design              10339   17291\n",
       "Art                 10941   12249\n",
       "Publishing          12022   19952\n",
       "Games               12059   19709\n",
       "Film & Video        23229   29431\n",
       "Music               23808   18304"
      ]
     },
     "execution_count": 11,
     "metadata": {},
     "output_type": "execute_result"
    }
   ],
   "source": [
    "state_year_df.sort_values('successful')"
   ]
  },
  {
   "cell_type": "code",
   "execution_count": 12,
   "metadata": {},
   "outputs": [
    {
     "data": {
      "image/png": "[encoded data removed]",
      "text/plain": [
       "<Figure size 432x288 with 1 Axes>"
      ]
     },
     "metadata": {
      "needs_background": "light"
     },
     "output_type": "display_data"
    }
   ],
   "source": [
    "# Highest Pledging Categories\n",
    "category_pledged_df = df[['main_category', 'pledged']].pivot_table(index='main_category', aggfunc=sum)\n",
    "category_pledged_df = category_pledged_df.sort_values('pledged')\n",
    "category_pledged_df.plot.bar()\n",
    "plt.show()"
   ]
  },
  {
   "cell_type": "code",
   "execution_count": 13,
   "metadata": {},
   "outputs": [
    {
     "data": {
      "image/png": "[encoded data removed]",
      "text/plain": [
       "<Figure size 432x288 with 1 Axes>"
      ]
     },
     "metadata": {
      "needs_background": "light"
     },
     "output_type": "display_data"
    }
   ],
   "source": [
    "# Top 10 categories analysis of success and failure\n",
    "subdf = df[['main_category', 'state']]\n",
    "pivot = subdf.pivot_table(index='main_category', columns='state', aggfunc=len)\n",
    "pivot = pivot.sort_values(by='successful', ascending=False) [:10] # Top 10 categories\n",
    "attrs = pivot.index.tolist()\n",
    "attr_vals = np.array(pivot.values.tolist()).T\n",
    "\n",
    "N = len(attrs)\n",
    "ind = np.arange(N)\n",
    "\n",
    "# Stacking under each state\n",
    "p1 = plt.bar(ind, attr_vals[0], width)\n",
    "p2 = plt.bar(ind, attr_vals[1], width, bottom=attr_vals[0])\n",
    "p3 = plt.bar(ind, attr_vals[2], width, bottom=attr_vals[0]+attr_vals[1])\n",
    "p4 = plt.bar(ind, attr_vals[3], width, bottom=attr_vals[0]+attr_vals[1]+attr_vals[2])\n",
    "p5 = plt.bar(ind, attr_vals[4], width, bottom=attr_vals[0]+attr_vals[1]+attr_vals[2]+attr_vals[3])\n",
    "\n",
    "plt.legend([p1[0], p2[0], p3[0], p4[0], p5[0]], ['canceled', 'failed', 'live', 'successful', 'suspended', 'undefined'])\n",
    "plt.xticks(ind, attrs)\n",
    "plt.show()"
   ]
  },
  {
   "cell_type": "code",
   "execution_count": 14,
   "metadata": {},
   "outputs": [
    {
     "data": {
      "image/png": "[encoded data removed]",
      "text/plain": [
       "<Figure size 432x288 with 1 Axes>"
      ]
     },
     "metadata": {
      "needs_background": "light"
     },
     "output_type": "display_data"
    }
   ],
   "source": [
    "# Project state and Backers\n",
    "backersdf = df[['main_category', 'state', 'backers']]\n",
    "backers_pivot = backersdf.pivot_table(index='main_category', columns='state', aggfunc='mean')\n",
    "cols = np.array(backers_pivot.columns.tolist()).T[1]\n",
    "backers_pivot.plot.bar()\n",
    "plt.legend(cols)\n",
    "plt.xticks(rotation=45)\n",
    "plt.show()"
   ]
  },
  {
   "cell_type": "code",
   "execution_count": 15,
   "metadata": {},
   "outputs": [
    {
     "data": {
      "image/png": "[encoded data removed]",
      "text/plain": [
       "<Figure size 432x288 with 1 Axes>"
      ]
     },
     "metadata": {
      "needs_background": "light"
     },
     "output_type": "display_data"
    }
   ],
   "source": [
    "percent_plot((df.main_category.value_counts()/df.shape[0]*100), \n",
    "             \"Kickstarter Projects by Category\")"
   ]
  },
  {
   "cell_type": "code",
   "execution_count": 16,
   "metadata": {},
   "outputs": [
    {
     "data": {
      "image/png": "[encoded data removed]",
      "text/plain": [
       "<Figure size 432x288 with 1 Axes>"
      ]
     },
     "metadata": {
      "needs_background": "light"
     },
     "output_type": "display_data"
    }
   ],
   "source": [
    "#categories of successful projects\n",
    "percent_plot((df[df.usd_pledged_real>=df.usd_goal_real].main_category.value_counts()/\n",
    "              df[df.usd_pledged_real>=df.usd_goal_real].shape[0]*100), \n",
    "              \"Successful Kickstarter Projects by Category\")"
   ]
  },
  {
   "cell_type": "code",
   "execution_count": 17,
   "metadata": {},
   "outputs": [
    {
     "data": {
      "text/plain": [
       "[Text(0, 0.5, 'USD Pledged in Million'),\n",
       " Text(0.5, 0, 'Number of Backers'),\n",
       " Text(0.5, 1.0, 'Backer vs Pledge')]"
      ]
     },
     "execution_count": 17,
     "metadata": {},
     "output_type": "execute_result"
    },
    {
     "data": {
      "image/png": "[encoded data removed]",
      "text/plain": [
       "<Figure size 432x288 with 1 Axes>"
      ]
     },
     "metadata": {
      "needs_background": "light"
     },
     "output_type": "display_data"
    }
   ],
   "source": [
    "colors = ('red','darkblue')\n",
    "ax = sns.scatterplot(x=data_kick.backers, y=data_kick.usd_pledged_real/1e6, hue=data_kick.state, palette=colors)\n",
    "ax.set(ylim=(-1,None), xlim=(-1,100000))\n",
    "\n",
    "ax.set(xlabel='Number of Backers', ylabel='USD Pledged in Million', title= 'Backer vs Pledge')"
   ]
  },
  {
   "cell_type": "code",
   "execution_count": 18,
   "metadata": {},
   "outputs": [
    {
     "data": {
      "text/plain": [
       "[Text(0, 0.5, 'USD Pledged in Million'),\n",
       " Text(0.5, 0, 'Pledge/Backer Ratio (funding per backer)'),\n",
       " Text(0.5, 1.0, 'Backer Ratio vs Pledge')]"
      ]
     },
     "execution_count": 18,
     "metadata": {},
     "output_type": "execute_result"
    },
    {
     "data": {
      "image/png": "[encoded data removed]",
      "text/plain": [
       "<Figure size 432x288 with 1 Axes>"
      ]
     },
     "metadata": {
      "needs_background": "light"
     },
     "output_type": "display_data"
    }
   ],
   "source": [
    "data_kick['backer_ratio'] = (data_kick['usd_pledged_real']//data_kick['backers']).fillna(0)\n",
    "ax = sns.scatterplot(x=data_kick.backer_ratio, y=data_kick.usd_pledged_real/1e6, hue=data_kick.state, palette=colors)\n",
    "ax.set(ylim=(-1,None), xlim=(-1,10000))\n",
    "ax.set(xlabel='Pledge/Backer Ratio (funding per backer)', ylabel='USD Pledged in Million', title= 'Backer Ratio vs Pledge')"
   ]
  },
  {
   "cell_type": "code",
   "execution_count": null,
   "metadata": {},
   "outputs": [],
   "source": []
  },
  {
   "cell_type": "code",
   "execution_count": 19,
   "metadata": {},
   "outputs": [],
   "source": [
    "from sklearn.linear_model import LogisticRegression\n",
    "from sklearn.discriminant_analysis import LinearDiscriminantAnalysis\n",
    "from sklearn.neighbors import KNeighborsClassifier\n",
    "from sklearn.tree import DecisionTreeClassifier\n",
    "from sklearn.ensemble import RandomForestClassifier, GradientBoostingClassifier, ExtraTreesClassifier\n",
    "from sklearn.ensemble import VotingClassifier, BaggingClassifier, AdaBoostClassifier\n",
    "\n",
    "from sklearn.metrics import roc_curve, auc, accuracy_score\n",
    "from sklearn.model_selection import train_test_split, cross_val_score\n"
   ]
  },
  {
   "cell_type": "code",
   "execution_count": 20,
   "metadata": {},
   "outputs": [
    {
     "name": "stderr",
     "output_type": "stream",
     "text": [
      "/anaconda3/lib/python3.7/site-packages/ipykernel_launcher.py:6: FutureWarning: Method .as_matrix will be removed in a future version. Use .values instead.\n",
      "  \n"
     ]
    }
   ],
   "source": [
    "data = df[df['state'].isin(['successful', 'failed'])] # Just working with either successful or failed projects\n",
    "\n",
    "X = data[['main_category', 'goal', 'pledged', 'backers']] # Selecting features from data\n",
    "X = pd.get_dummies(X, columns=['main_category']) # Converting to dummies for modeling purposes\n",
    "#X = X.as_matrix()\n",
    "y = data['state'].as_matrix()\n",
    "#y = pd.get_dummies(y).as_matrix()\n",
    "\n",
    "X_train, X_test, y_train, y_test = train_test_split(X, y, test_size=0.40)\n",
    "\n"
   ]
  },
  {
   "cell_type": "code",
   "execution_count": 22,
   "metadata": {},
   "outputs": [
    {
     "name": "stdout",
     "output_type": "stream",
     "text": [
      "Accuracy of Decision Tree: 99.9028553585678%\n",
      "F1 Score of Decision Tree: 99.90190263132924%\n",
      "Precision Score of Decision Tree: 99.90155816564052%\n",
      "Recall Score of Decision Tree: 99.90224734464137%\n",
      "              precision    recall  f1-score   support\n",
      "\n",
      "      failed       1.00      1.00      1.00     63329\n",
      "  successful       1.00      1.00      1.00     51963\n",
      "\n",
      "   micro avg       1.00      1.00      1.00    115292\n",
      "   macro avg       1.00      1.00      1.00    115292\n",
      "weighted avg       1.00      1.00      1.00    115292\n",
      "\n"
     ]
    }
   ],
   "source": [
    "from sklearn.metrics import accuracy_score, f1_score, precision_score, recall_score, classification_report, confusion_matrix\n",
    "\n",
    "\n",
    "\n",
    "# Decision Tree classifier\n",
    "dtc = DecisionTreeClassifier()\n",
    "dtc.fit(X_train, y_train)\n",
    "y_pred = dtc.predict(X_test)\n",
    "accuracy = accuracy_score(y_test, y_pred)\n",
    "print('Accuracy of Decision Tree: {}%'.format(accuracy*100))\n",
    "print('F1 Score of Decision Tree: {}%'.format(f1_score(y_test, y_pred, average=\"macro\")*100))\n",
    "print('Precision Score of Decision Tree: {}%'.format(precision_score(y_test, y_pred, average=\"macro\")*100))\n",
    "print('Recall Score of Decision Tree: {}%'.format(recall_score(y_test, y_pred, average=\"macro\")*100))\n",
    "print(classification_report(y_test,y_pred))\n",
    "\n",
    "\n",
    "\n"
   ]
  },
  {
   "cell_type": "code",
   "execution_count": 23,
   "metadata": {},
   "outputs": [
    {
     "name": "stderr",
     "output_type": "stream",
     "text": [
      "/anaconda3/lib/python3.7/site-packages/sklearn/linear_model/logistic.py:433: FutureWarning: Default solver will be changed to 'lbfgs' in 0.22. Specify a solver to silence this warning.\n",
      "  FutureWarning)\n"
     ]
    },
    {
     "name": "stdout",
     "output_type": "stream",
     "text": [
      "Accuracy of Logistic Regression: 99.9774485653818%\n",
      "F1 Score of Logistic Regression: 99.97722826057733%\n",
      "Precision Score of Logistic Regression: 99.97499471041951%\n",
      "Recall Score of Logistic Regression: 99.97947227968228%\n",
      "              precision    recall  f1-score   support\n",
      "\n",
      "      failed       1.00      1.00      1.00     63329\n",
      "  successful       1.00      1.00      1.00     51963\n",
      "\n",
      "   micro avg       1.00      1.00      1.00    115292\n",
      "   macro avg       1.00      1.00      1.00    115292\n",
      "weighted avg       1.00      1.00      1.00    115292\n",
      "\n"
     ]
    },
    {
     "data": {
      "text/html": [
       "<div>\n",
       "<style scoped>\n",
       "    .dataframe tbody tr th:only-of-type {\n",
       "        vertical-align: middle;\n",
       "    }\n",
       "\n",
       "    .dataframe tbody tr th {\n",
       "        vertical-align: top;\n",
       "    }\n",
       "\n",
       "    .dataframe thead th {\n",
       "        text-align: right;\n",
       "    }\n",
       "</style>\n",
       "<table border=\"1\" class=\"dataframe\">\n",
       "  <thead>\n",
       "    <tr style=\"text-align: right;\">\n",
       "      <th></th>\n",
       "      <th>feature</th>\n",
       "      <th>coefs</th>\n",
       "      <th>abs_coefs</th>\n",
       "    </tr>\n",
       "  </thead>\n",
       "  <tbody>\n",
       "    <tr>\n",
       "      <th>1</th>\n",
       "      <td>pledged</td>\n",
       "      <td>0.019859</td>\n",
       "      <td>0.019859</td>\n",
       "    </tr>\n",
       "    <tr>\n",
       "      <th>0</th>\n",
       "      <td>goal</td>\n",
       "      <td>-0.018876</td>\n",
       "      <td>0.018876</td>\n",
       "    </tr>\n",
       "    <tr>\n",
       "      <th>2</th>\n",
       "      <td>backers</td>\n",
       "      <td>0.003666</td>\n",
       "      <td>0.003666</td>\n",
       "    </tr>\n",
       "    <tr>\n",
       "      <th>13</th>\n",
       "      <td>main_category_Music</td>\n",
       "      <td>0.000044</td>\n",
       "      <td>0.000044</td>\n",
       "    </tr>\n",
       "    <tr>\n",
       "      <th>9</th>\n",
       "      <td>main_category_Film &amp; Video</td>\n",
       "      <td>0.000042</td>\n",
       "      <td>0.000042</td>\n",
       "    </tr>\n",
       "    <tr>\n",
       "      <th>3</th>\n",
       "      <td>main_category_Art</td>\n",
       "      <td>0.000025</td>\n",
       "      <td>0.000025</td>\n",
       "    </tr>\n",
       "    <tr>\n",
       "      <th>15</th>\n",
       "      <td>main_category_Publishing</td>\n",
       "      <td>0.000020</td>\n",
       "      <td>0.000020</td>\n",
       "    </tr>\n",
       "    <tr>\n",
       "      <th>17</th>\n",
       "      <td>main_category_Theater</td>\n",
       "      <td>0.000018</td>\n",
       "      <td>0.000018</td>\n",
       "    </tr>\n",
       "    <tr>\n",
       "      <th>8</th>\n",
       "      <td>main_category_Fashion</td>\n",
       "      <td>0.000006</td>\n",
       "      <td>0.000006</td>\n",
       "    </tr>\n",
       "    <tr>\n",
       "      <th>4</th>\n",
       "      <td>main_category_Comics</td>\n",
       "      <td>0.000006</td>\n",
       "      <td>0.000006</td>\n",
       "    </tr>\n",
       "    <tr>\n",
       "      <th>14</th>\n",
       "      <td>main_category_Photography</td>\n",
       "      <td>0.000005</td>\n",
       "      <td>0.000005</td>\n",
       "    </tr>\n",
       "    <tr>\n",
       "      <th>6</th>\n",
       "      <td>main_category_Dance</td>\n",
       "      <td>0.000005</td>\n",
       "      <td>0.000005</td>\n",
       "    </tr>\n",
       "    <tr>\n",
       "      <th>7</th>\n",
       "      <td>main_category_Design</td>\n",
       "      <td>0.000003</td>\n",
       "      <td>0.000003</td>\n",
       "    </tr>\n",
       "    <tr>\n",
       "      <th>10</th>\n",
       "      <td>main_category_Food</td>\n",
       "      <td>0.000003</td>\n",
       "      <td>0.000003</td>\n",
       "    </tr>\n",
       "    <tr>\n",
       "      <th>11</th>\n",
       "      <td>main_category_Games</td>\n",
       "      <td>0.000003</td>\n",
       "      <td>0.000003</td>\n",
       "    </tr>\n",
       "    <tr>\n",
       "      <th>5</th>\n",
       "      <td>main_category_Crafts</td>\n",
       "      <td>0.000003</td>\n",
       "      <td>0.000003</td>\n",
       "    </tr>\n",
       "    <tr>\n",
       "      <th>12</th>\n",
       "      <td>main_category_Journalism</td>\n",
       "      <td>0.000002</td>\n",
       "      <td>0.000002</td>\n",
       "    </tr>\n",
       "    <tr>\n",
       "      <th>16</th>\n",
       "      <td>main_category_Technology</td>\n",
       "      <td>0.000001</td>\n",
       "      <td>0.000001</td>\n",
       "    </tr>\n",
       "  </tbody>\n",
       "</table>\n",
       "</div>"
      ],
      "text/plain": [
       "                       feature     coefs  abs_coefs\n",
       "1                      pledged  0.019859   0.019859\n",
       "0                         goal -0.018876   0.018876\n",
       "2                      backers  0.003666   0.003666\n",
       "13         main_category_Music  0.000044   0.000044\n",
       "9   main_category_Film & Video  0.000042   0.000042\n",
       "3            main_category_Art  0.000025   0.000025\n",
       "15    main_category_Publishing  0.000020   0.000020\n",
       "17       main_category_Theater  0.000018   0.000018\n",
       "8        main_category_Fashion  0.000006   0.000006\n",
       "4         main_category_Comics  0.000006   0.000006\n",
       "14   main_category_Photography  0.000005   0.000005\n",
       "6          main_category_Dance  0.000005   0.000005\n",
       "7         main_category_Design  0.000003   0.000003\n",
       "10          main_category_Food  0.000003   0.000003\n",
       "11         main_category_Games  0.000003   0.000003\n",
       "5         main_category_Crafts  0.000003   0.000003\n",
       "12    main_category_Journalism  0.000002   0.000002\n",
       "16    main_category_Technology  0.000001   0.000001"
      ]
     },
     "execution_count": 23,
     "metadata": {},
     "output_type": "execute_result"
    }
   ],
   "source": [
    "from sklearn.linear_model import LogisticRegression\n",
    "from sklearn.metrics import accuracy_score, f1_score, precision_score, recall_score, classification_report, confusion_matrix\n",
    "\n",
    "\n",
    "model = LogisticRegression(C=1)\n",
    "model.fit(X_train, y_train)\n",
    "\n",
    "log_pred=model.predict(X_test)\n",
    "\n",
    "\n",
    "\n",
    "\n",
    "\n",
    "accuracy = accuracy_score(y_test, log_pred)\n",
    "print('Accuracy of Logistic Regression: {}%'.format(accuracy*100))\n",
    "print('F1 Score of Logistic Regression: {}%'.format(f1_score(y_test, log_pred, average=\"macro\")*100))\n",
    "print('Precision Score of Logistic Regression: {}%'.format(precision_score(y_test, log_pred, average=\"macro\")*100))\n",
    "print('Recall Score of Logistic Regression: {}%'.format(recall_score(y_test, log_pred, average=\"macro\")*100))\n",
    "print(classification_report(y_test,log_pred))\n",
    "\n",
    "\n",
    "\n",
    "coefs_df = pd.DataFrame()\n",
    "coefs_df['feature'] = X_train.columns\n",
    "coefs_df['coefs'] = model.coef_[0].tolist()\n",
    "coefs_df['abs_coefs'] = np.abs(model.coef_[0].tolist()) #absolute value of coefficients\n",
    "\n",
    "coefs_df = coefs_df.sort_values('abs_coefs', ascending=False).head(20)\n",
    "coefs_df\n"
   ]
  },
  {
   "cell_type": "code",
   "execution_count": 24,
   "metadata": {},
   "outputs": [
    {
     "name": "stdout",
     "output_type": "stream",
     "text": [
      "Accuracy of Logistic Regression: 67.00985324220241%\n",
      "F1 Score of Logistic Regression: 60.249789516039144%\n",
      "Precision Score of Logistic Regression: 78.41507968826494%\n",
      "Recall Score of Logistic Regression: 63.562104965333035%\n",
      "              precision    recall  f1-score   support\n",
      "\n",
      "      failed       0.63      0.99      0.77     63329\n",
      "  successful       0.94      0.29      0.44     51963\n",
      "\n",
      "   micro avg       0.67      0.67      0.67    115292\n",
      "   macro avg       0.78      0.64      0.60    115292\n",
      "weighted avg       0.77      0.67      0.62    115292\n",
      "\n"
     ]
    }
   ],
   "source": [
    "from sklearn.naive_bayes import GaussianNB\n",
    "gnb = GaussianNB()\n",
    "gnb.fit(X_train , y_train)\n",
    "\n",
    "GNB_pred = gnb.predict(X_test)\n",
    "\n",
    "accuracy = accuracy_score(y_test, GNB_pred)\n",
    "print('Accuracy of Logistic Regression: {}%'.format(accuracy*100))\n",
    "print('F1 Score of Logistic Regression: {}%'.format(f1_score(y_test, GNB_pred, average=\"macro\")*100))\n",
    "print('Precision Score of Logistic Regression: {}%'.format(precision_score(y_test, GNB_pred, average=\"macro\")*100))\n",
    "print('Recall Score of Logistic Regression: {}%'.format(recall_score(y_test, GNB_pred, average=\"macro\")*100))\n",
    "print(classification_report(y_test,GNB_pred))\n",
    "\n",
    "\n",
    "\n"
   ]
  },
  {
   "cell_type": "code",
   "execution_count": 25,
   "metadata": {},
   "outputs": [
    {
     "name": "stdout",
     "output_type": "stream",
     "text": [
      "Accuracy of Logistic Regression: 99.95836658224336%\n",
      "F1 Score of Logistic Regression: 60.249789516039144%\n",
      "Precision Score of Logistic Regression: 78.41507968826494%\n",
      "Recall Score of Logistic Regression: 63.562104965333035%\n",
      "              precision    recall  f1-score   support\n",
      "\n",
      "      failed       0.63      0.99      0.77     63329\n",
      "  successful       0.94      0.29      0.44     51963\n",
      "\n",
      "   micro avg       0.67      0.67      0.67    115292\n",
      "   macro avg       0.78      0.64      0.60    115292\n",
      "weighted avg       0.77      0.67      0.62    115292\n",
      "\n"
     ]
    }
   ],
   "source": [
    "from sklearn.neighbors import KNeighborsClassifier\n",
    "#making the instance\n",
    "kmodel = KNeighborsClassifier(n_jobs=-1)\n",
    "#learning\n",
    "kmodel.fit(X_train,y_train)\n",
    "#KNN Accuracy Prediction\n",
    "KNN_pred=kmodel.predict(X_test)\n",
    "\n",
    "\n",
    "accuracy = accuracy_score(y_test, KNN_pred)\n",
    "print('Accuracy of Logistic Regression: {}%'.format(accuracy*100))\n",
    "print('F1 Score of Logistic Regression: {}%'.format(f1_score(y_test, GNB_pred, average=\"macro\")*100))\n",
    "print('Precision Score of Logistic Regression: {}%'.format(precision_score(y_test, GNB_pred, average=\"macro\")*100))\n",
    "print('Recall Score of Logistic Regression: {}%'.format(recall_score(y_test, GNB_pred, average=\"macro\")*100))\n",
    "print(classification_report(y_test,GNB_pred))\n",
    "\n",
    "\n",
    "\n",
    "\n"
   ]
  },
  {
   "cell_type": "code",
   "execution_count": null,
   "metadata": {},
   "outputs": [],
   "source": []
  }
 ],
 "metadata": {
  "kernelspec": {
   "display_name": "Python 3",
   "language": "python",
   "name": "python3"
  },
  "language_info": {
   "codemirror_mode": {
    "name": "ipython",
    "version": 3
   },
   "file_extension": ".py",
   "mimetype": "text/x-python",
   "name": "python",
   "nbconvert_exporter": "python",
   "pygments_lexer": "ipython3",
   "version": "3.7.3"
  }
 },
 "nbformat": 4,
 "nbformat_minor": 2
}
